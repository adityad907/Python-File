{
 "cells": [
  {
   "cell_type": "markdown",
   "metadata": {},
   "source": [
    "(STRING)"
   ]
  },
  {
   "cell_type": "code",
   "execution_count": null,
   "metadata": {},
   "outputs": [],
   "source": [
    "1. #ESCAPE SEQUENCE CHARACTER we use this character for making some small small changes in string like\n",
    "#writing a long sentence but we have to write it in a next line so we use (\\n) and also we can use \n",
    "# for next tab we can use (\\t) "
   ]
  },
  {
   "cell_type": "code",
   "execution_count": 11,
   "metadata": {},
   "outputs": [
    {
     "name": "stdout",
     "output_type": "stream",
     "text": [
      "My name is aditya. Currently im studying in zeal college\n"
     ]
    }
   ],
   "source": [
    "str1 = \"My name is aditya. Currently im studying in zeal college\"\n",
    "print(str1)"
   ]
  },
  {
   "cell_type": "code",
   "execution_count": 12,
   "metadata": {},
   "outputs": [
    {
     "name": "stdout",
     "output_type": "stream",
     "text": [
      "My name is aditya.\n",
      "Currently im studying in zeal college\n"
     ]
    }
   ],
   "source": [
    "str1 = \"My name is aditya.\\nCurrently im studying in zeal college\"\n",
    "print(str1)"
   ]
  },
  {
   "cell_type": "code",
   "execution_count": 13,
   "metadata": {},
   "outputs": [
    {
     "name": "stdout",
     "output_type": "stream",
     "text": [
      "My name is aditya.\tCurrently im studying in zeal college\n"
     ]
    }
   ],
   "source": [
    "str1 = \"My name is aditya.\\tCurrently im studying in zeal college\"\n",
    "print(str1)"
   ]
  },
  {
   "cell_type": "markdown",
   "metadata": {},
   "source": [
    "2. we can use the (+)to add two different strings this process is called as the concatenation\n",
    "and for the length of the string we can use the len(str)"
   ]
  },
  {
   "cell_type": "code",
   "execution_count": 26,
   "metadata": {},
   "outputs": [
    {
     "name": "stdout",
     "output_type": "stream",
     "text": [
      "python is simple coding language\n",
      "zeal college of engineering and research\n",
      "40\n",
      "24\n"
     ]
    }
   ],
   "source": [
    "str1 = \"python is\"\n",
    "str2 = \" simple coding language\"\n",
    "print(str1 + str2)\n",
    "\n",
    "str1 = \"zeal college of\"\n",
    "str2 = \" engineering and research\"\n",
    "final_str = str1+ \"\" +str2\n",
    "print(final_str)\n",
    "print(len(final_str))\n",
    "\n",
    "\n",
    "str1 = \"the length of the string\"\n",
    "len1 = len(str1)\n",
    "print(len1)\n",
    "\n"
   ]
  },
  {
   "cell_type": "markdown",
   "metadata": {},
   "source": [
    "3. (INDEXING)\n",
    "SO THE INDEXING SHOWS THE POSTION OF THE CHARACTER OR THE ALPHABET LIKE IN WORD \n",
    "APNA COLLEGE HERE THE INDEX STARTS FROM LIKE 0 TO 11 \n",
    "SO THE (A) GETS 0 AND THE LAST ALPHABET (E) GETS 11\n"
   ]
  },
  {
   "cell_type": "code",
   "execution_count": 28,
   "metadata": {},
   "outputs": [
    {
     "name": "stdout",
     "output_type": "stream",
     "text": [
      "t\n"
     ]
    }
   ],
   "source": [
    "str = \"aditya\"\n",
    "print(str[3])"
   ]
  },
  {
   "cell_type": "markdown",
   "metadata": {},
   "source": [
    "4. (SLICING)\n",
    "dividing the parts of the string is called as the slicing \n",
    "HERE WE CAN ACECCESS THE MIDDLE PART BETWEEN ANY TWO \n",
    "\n",
    "Here we also have an negative index here we do backward counting like \n",
    "for example if we take word APPLE so here for e=-1, l=-2, p=-3, etc\n"
   ]
  },
  {
   "cell_type": "code",
   "execution_count": 39,
   "metadata": {},
   "outputs": [
    {
     "name": "stdout",
     "output_type": "stream",
     "text": [
      "apna\n",
      "college\n",
      "college\n",
      "college\n",
      "apna college\n",
      "ppl\n",
      "Apple\n",
      "e\n"
     ]
    }
   ],
   "source": [
    "str1 = \"apna college\"\n",
    "print(str1[0:4])\n",
    "print(str1[5:12])\n",
    "print(str1[5:len(str1)])\n",
    "print(str1[5:])\n",
    "print(str1[:12])\n",
    "\n",
    "str = \"Apple\"\n",
    "print(str[-4:-1])\n",
    "print(str[-5:])\n",
    "print(str[-1:])"
   ]
  },
  {
   "cell_type": "markdown",
   "metadata": {},
   "source": [
    "5. (STRING FUNCTION)\n",
    "\n",
    "there are various functions of the string like \n",
    "1. substring here we can check the our sring part is ended with the same letters or not like\n",
    "int the word coder the end part is er so if we write the er in the code then we will get True\n",
    "\n",
    "2. cpatalize function this function will make the first character capital from the string \n",
    "\n",
    "3. Replace function this function replce the old value with the new value \n",
    "\n",
    "4. find fuction is used to find the given word in that string \n",
    "\n",
    "5. count function is used to count the occurence that are counted in the substring\n"
   ]
  },
  {
   "cell_type": "code",
   "execution_count": 62,
   "metadata": {},
   "outputs": [
    {
     "name": "stdout",
     "output_type": "stream",
     "text": [
      "True\n",
      "I am learning new skill\n",
      "I am learning new skill\n",
      "I sm studying python using the spns college lectures\n",
      "I am studying video editing using the apna college lectures\n",
      "0\n",
      "48\n",
      "55\n",
      "3\n"
     ]
    }
   ],
   "source": [
    "str = \"I am learning new skill\"\n",
    "print(str.endswith(\"skill\"))\n",
    "\n",
    "str = \"i am learning new skill\"\n",
    "print(str.capitalize())\n",
    "str = str.capitalize()\n",
    "print(str)\n",
    "\n",
    "str = \"I am studying python using the apna college lectures\"\n",
    "print(str.replace(\"a\",\"s\"))\n",
    "print(str.replace(\"python\",\"video editing\"))\n",
    "\n",
    "str = \"tanmay bhat is the one of the og creator in the youtube\"\n",
    "print(str.find(\"tanmay bhat\"))\n",
    "print(str.find(\"youtube\"))\n",
    "print(len(str))\n",
    "\n",
    "str = \"the world is full of sinners judging the sinn\"\n",
    "print(str.count(\"l\"))\n"
   ]
  },
  {
   "cell_type": "code",
   "execution_count": 56,
   "metadata": {},
   "outputs": [
    {
     "data": {
      "text/plain": [
       "\"this is the apana college's tutorial\""
      ]
     },
     "execution_count": 56,
     "metadata": {},
     "output_type": "execute_result"
    }
   ],
   "source": [
    "str = \"this is a string\"\n",
    "str2 = 'i have learned this from shraddha mam'\n",
    "str3 = \"\"\"triple quote string\"\"\"\n",
    "#we can write string in single double and triple all the quotes\n",
    "\"this is the apana college's tutorial\"\n"
   ]
  }
 ],
 "metadata": {
  "kernelspec": {
   "display_name": "Python 3",
   "language": "python",
   "name": "python3"
  },
  "language_info": {
   "codemirror_mode": {
    "name": "ipython",
    "version": 3
   },
   "file_extension": ".py",
   "mimetype": "text/x-python",
   "name": "python",
   "nbconvert_exporter": "python",
   "pygments_lexer": "ipython3",
   "version": "3.13.2"
  }
 },
 "nbformat": 4,
 "nbformat_minor": 2
}
