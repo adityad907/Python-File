{
 "cells": [
  {
   "cell_type": "markdown",
   "id": "8d123573",
   "metadata": {},
   "source": [
    "practice questions \n",
    "\n",
    "1. WAP a to input users name and print its length \n",
    "2. WAP to find the occurance of the S in the string "
   ]
  },
  {
   "cell_type": "code",
   "execution_count": null,
   "id": "0b657572",
   "metadata": {},
   "outputs": [
    {
     "name": "stdout",
     "output_type": "stream",
     "text": [
      "length of your name is 6\n"
     ]
    }
   ],
   "source": [
    "name = input(\"enter your name : \")\n",
    "print(\"length of your name is\", len(name))"
   ]
  },
  {
   "cell_type": "code",
   "execution_count": 7,
   "id": "6d1729a2",
   "metadata": {},
   "outputs": [
    {
     "name": "stdout",
     "output_type": "stream",
     "text": [
      "5\n"
     ]
    }
   ],
   "source": [
    "str = \"Hi, my name is aditya and i am learning python\"\n",
    "print(str.count(\"i\"))"
   ]
  },
  {
   "cell_type": "markdown",
   "id": "3955d880",
   "metadata": {},
   "source": [
    "CONDITIONAL STATEMENTS \n",
    "we use this statement when we have to perform a certain condition \n",
    "we use vairables like (if, else, elif) for performing this task \n",
    "(we have to write an if statement before we write an elif statement)\n",
    "(we can write else statement at the end only for just one time)\n"
   ]
  },
  {
   "cell_type": "code",
   "execution_count": 4,
   "id": "9e8ae9cf",
   "metadata": {},
   "outputs": [
    {
     "name": "stdout",
     "output_type": "stream",
     "text": [
      "at this age a person can vote for the elections\n",
      "and also eligible for the driving lisicen\n"
     ]
    }
   ],
   "source": [
    "age = 21\n",
    "\n",
    "if(age >= 18):\n",
    "    print(\"at this age a person can vote for the elections\")\n",
    "    print(\"and also eligible for the driving lisicen\")"
   ]
  },
  {
   "cell_type": "code",
   "execution_count": null,
   "id": "71f082c7",
   "metadata": {},
   "outputs": [
    {
     "name": "stdout",
     "output_type": "stream",
     "text": [
      "look around\n"
     ]
    }
   ],
   "source": [
    "light = \"yellow\"\n",
    "\n",
    "if(light == \"red\"):\n",
    "    print(\"stop\")\n",
    "elif(light == \"green\"):\n",
    "    print(\"Go\")\n",
    "elif(light == \"yellow\"):\n",
    "    print(\"look around\")\n",
    "else:\n",
    "    print(\"light is broken\")\n",
    "# is the light shown here is other than yellow red and green then is shows else statement \n",
    "#light is broken "
   ]
  },
  {
   "cell_type": "code",
   "execution_count": 9,
   "id": "fe1be7a1",
   "metadata": {},
   "outputs": [
    {
     "name": "stdout",
     "output_type": "stream",
     "text": [
      "can not vote\n"
     ]
    }
   ],
   "source": [
    "age = 17\n",
    "\n",
    "if(age >= 18):\n",
    "    print(\"can vote\")\n",
    "else:\n",
    "    print(\"can not vote\")"
   ]
  },
  {
   "cell_type": "markdown",
   "id": "c27a6862",
   "metadata": {},
   "source": [
    "(GRADE BASE MARKING CONDITIONAL STATEMENT)"
   ]
  },
  {
   "cell_type": "code",
   "execution_count": 12,
   "id": "ab20a93a",
   "metadata": {},
   "outputs": [
    {
     "name": "stdout",
     "output_type": "stream",
     "text": [
      "Unfortunately and Fortunately you are failed in this examination\n"
     ]
    }
   ],
   "source": [
    "marks = 35\n",
    "\n",
    "if(marks >= 90):\n",
    "    print(\"you have got an A grade\")\n",
    "\n",
    "elif(marks >=80 and marks < 90):\n",
    "    print(\"you have got B grade\")\n",
    "elif(marks >= 70 and marks <80):\n",
    "    print(\"you have got and C grade\")\n",
    "\n",
    "else:\n",
    "    print(\"Unfortunately and Fortunately you are failed in this examination\")\n"
   ]
  },
  {
   "cell_type": "code",
   "execution_count": 16,
   "id": "1721d549",
   "metadata": {},
   "outputs": [
    {
     "name": "stdout",
     "output_type": "stream",
     "text": [
      "You are the GOAT\n",
      "you have got an A grade\n"
     ]
    }
   ],
   "source": [
    "marks = int(input(\"enter your marks :  \"))\n",
    "\n",
    "if(marks == 100):\n",
    "    print(\"You are the GOAT\")\n",
    "if(marks >= 90):\n",
    "    print(\"you have got an A grade\")\n",
    "\n",
    "elif(marks >=80 and marks < 90):\n",
    "    print(\"you have got B grade\")\n",
    "elif(marks >= 70 and marks <80):\n",
    "    print(\"you have got and C grade\")\n",
    "\n",
    "else:\n",
    "    print(\"Unfortunately and Fortunately you are failed in this examination\")\n"
   ]
  },
  {
   "cell_type": "markdown",
   "id": "ac084039",
   "metadata": {},
   "source": [
    "(NESTING) : phenomenon where we write statement inside the another statement \n"
   ]
  },
  {
   "cell_type": "code",
   "execution_count": 17,
   "id": "0feb9898",
   "metadata": {},
   "outputs": [
    {
     "name": "stdout",
     "output_type": "stream",
     "text": [
      "can drive\n",
      "you can do whatever you want to do\n"
     ]
    }
   ],
   "source": [
    "age = 34\n",
    "\n",
    "if(age >= 18):\n",
    "    print(\"can drive\")\n",
    "    if(age >=60):\n",
    "        print(\"cannot drive\")\n",
    "    else:\n",
    "        print(\"you can do whatever you want to do\")\n",
    "        "
   ]
  },
  {
   "cell_type": "markdown",
   "id": "ad2149ea",
   "metadata": {},
   "source": [
    "(PRACTICE PROBLEMS)\n",
    "\n",
    "1. WAP TO CHECK THE ENTERED NUMBER IS ODD OR EVEN \n",
    "2. WAP TO FIND THE GREATEST OF THREE NUMBERS ENTERED BY THE USER\n",
    "3. WAP TO FIND THE NUMBER IS MULTIPLE OF 7 OR NOT "
   ]
  },
  {
   "cell_type": "code",
   "execution_count": 24,
   "id": "b77c585f",
   "metadata": {},
   "outputs": [
    {
     "name": "stdout",
     "output_type": "stream",
     "text": [
      "this number is odd number\n"
     ]
    }
   ],
   "source": [
    "# 1ST QUESTION'S ANSWER\n",
    "num = int(input(\"enter your number : \"))\n",
    "rem = num % 2\n",
    "\n",
    "if(rem == 0):\n",
    "    print (\"this is an even number\")\n",
    "else:\n",
    "    print(\"this number is odd number\")\n"
   ]
  },
  {
   "cell_type": "code",
   "execution_count": 27,
   "id": "2c7b75af",
   "metadata": {},
   "outputs": [
    {
     "name": "stdout",
     "output_type": "stream",
     "text": [
      "first number is the greatest number\n"
     ]
    }
   ],
   "source": [
    "# 2nd question's answer\n",
    "\n",
    "a = int(input(\"enter your first number : \"))\n",
    "b = int(input(\"enter your second number : \"))\n",
    "c = int(input(\"enter your third number : \"))\n",
    "\n",
    "if(a>b and a>c):\n",
    "    print(\"first number is the greatest number\")\n",
    "elif(b>a and b>c):\n",
    "    print(\"second number is the greatest number\")\n",
    "else:\n",
    "    print(\"third number is the greatest number\")"
   ]
  },
  {
   "cell_type": "code",
   "execution_count": 31,
   "id": "6359f61a",
   "metadata": {},
   "outputs": [
    {
     "name": "stdout",
     "output_type": "stream",
     "text": [
      "The given number is not multiple of 7\n"
     ]
    }
   ],
   "source": [
    "# 3rd queation's answer\n",
    "\n",
    "num = int(input(\"enter your number : \"))\n",
    "rem = num % 7\n",
    "if(rem == 0):\n",
    "    print(\"Given number is multiple to the 7\")\n",
    "else:\n",
    "    print(\"The given number is not multiple of 7\")\n"
   ]
  }
 ],
 "metadata": {
  "kernelspec": {
   "display_name": "Python 3",
   "language": "python",
   "name": "python3"
  },
  "language_info": {
   "codemirror_mode": {
    "name": "ipython",
    "version": 3
   },
   "file_extension": ".py",
   "mimetype": "text/x-python",
   "name": "python",
   "nbconvert_exporter": "python",
   "pygments_lexer": "ipython3",
   "version": "3.13.2"
  }
 },
 "nbformat": 4,
 "nbformat_minor": 5
}
